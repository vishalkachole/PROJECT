{
 "cells": [
  {
   "cell_type": "code",
   "execution_count": null,
   "id": "e8ff9b65-8eda-4005-8076-a871c5d0ad4c",
   "metadata": {},
   "outputs": [],
   "source": [
    "import tkinter as tk\n",
    "from tkinter import *\n",
    "import random\n",
    "\n",
    "win = tk.Tk()\n",
    "win.geometry(\"750x750\")\n",
    "win.title(\"PythonGeeks\")\n",
    "\n",
    "hint = StringVar()\n",
    "score = IntVar()\n",
    "final_score= IntVar()\n",
    "guess= IntVar()\n",
    "num=random.randint(1,50)\n",
    "hint.set(\"Guess a number between 1 to 50 \")\n",
    "score.set(5)\n",
    "final_score.set(score.get())\n",
    "\n",
    "def fun():\n",
    "    x=guess.get()\n",
    "    final_score.set(score.get())\n",
    "    if score.get()>0:\n",
    "\n",
    "        if x > 20 or x<0:\n",
    "            hint.set(\"You just lost 1 Chance\")\n",
    "            score.set(score.get()-1)\n",
    "            final_score.set(score.get())\n",
    "    \n",
    "        elif num==x:\n",
    "            hint.set(\"Congratulation YOU WON!!!\")\n",
    "            score.set(score.get()-1)\n",
    "            final_score.set(score.get())\n",
    "      \n",
    "        elif num > x:\n",
    "            hint.set(\"Your guess was too low: Guess a number higher \")\n",
    "            score.set(score.get()-1)\n",
    "            final_score.set(score.get())\n",
    "        elif num < x:\n",
    "            hint.set(\"Your guess was too High: Guess a number Lower \")\n",
    "            score.set(score.get()-1)\n",
    "            final_score.set(score.get())\n",
    "    else:\n",
    "         hint.set(\"Game Over You Lost\")\n",
    "\n",
    "\n",
    "Entry(win, textvariable=guess, width=3,font=('Ubuntu', 50), relief=GROOVE).place(relx=0.5, rely=0.3, anchor=CENTER)\n",
    "\n",
    "Entry(win, textvariable=hint, width=50,font=('Courier', 15), relief=GROOVE,bg='orange').place(relx=0.5, rely=0.7, anchor=CENTER)\n",
    "\n",
    "Entry(win, text=final_score, width=2,font=('Ubuntu', 24), relief=GROOVE).place(relx=0.61, rely=0.85, anchor=CENTER)\n",
    "\n",
    "Label(win, text='I challange you to guess the number ',font=(\"Courier\", 25)).place(relx=0.5, rely=0.09, anchor=CENTER)\n",
    "\n",
    "Label(win, text='Score out of 5',font=(\"Courier\", 25)).place(relx=0.3, rely=0.85, anchor=CENTER)\n",
    "\n",
    "Button(win, width=8, text='CHECK', font=('Courier', 25), command=fun, relief=GROOVE,bg='light blue').place(relx=0.5, rely=0.5, anchor=CENTER)\n",
    "\n",
    "win.mainloop()"
   ]
  },
  {
   "cell_type": "code",
   "execution_count": null,
   "id": "02e04eaf-c705-48d2-8e78-058e85d8a200",
   "metadata": {},
   "outputs": [],
   "source": []
  }
 ],
 "metadata": {
  "kernelspec": {
   "display_name": "Python 3 (ipykernel)",
   "language": "python",
   "name": "python3"
  },
  "language_info": {
   "codemirror_mode": {
    "name": "ipython",
    "version": 3
   },
   "file_extension": ".py",
   "mimetype": "text/x-python",
   "name": "python",
   "nbconvert_exporter": "python",
   "pygments_lexer": "ipython3",
   "version": "3.11.7"
  }
 },
 "nbformat": 4,
 "nbformat_minor": 5
}
